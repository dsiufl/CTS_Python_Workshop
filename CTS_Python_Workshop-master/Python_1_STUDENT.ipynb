{
 "cells": [
  {
   "cell_type": "markdown",
   "metadata": {},
   "source": [
    "# Python 1 Workshop (Student Version)\n",
    "\n",
    "Now that most of you have learned the basics of Python (variables, types, strings, data structures, loops, and functions) from our Python 0 workshop, we are ready to dive in to some more advanced Python topics. In this workshop we will learn how to use Python for data science, and introduce you to the basics of data science in Python. "
   ]
  },
  {
   "cell_type": "markdown",
   "metadata": {},
   "source": [
    "# Data Science Tutorial\n",
    "Now that we've covered some Python basics, we will begin a tutorial going through many tasks a data scientist may perform.  We will obtain real world data and go through the process of auditing, analyzing, visualing, and building classifiers from the data.\n",
    "\n",
    "For more information on this data set:\n",
    "http://apps.who.int/gho/data/node.home\n",
    "\n",
    "## Obtaining the Data\n",
    "Lets begin by programmatically obtaining the data.  Here I'll define a function we can use to make HTTP requests and download the data"
   ]
  },
  {
   "cell_type": "code",
   "execution_count": 3,
   "metadata": {
    "collapsed": true
   },
   "outputs": [],
   "source": [
    "def download_file(url, local_filename):\n",
    "    import requests\n",
    "    \n",
    "    # stream = True allows downloading of large files; prevents loading entire file into memory\n",
    "    r = requests.get(url, stream = True)\n",
    "    with open(local_filename, 'wb') as f:\n",
    "        for chunk in r.iter_content(chunk_size=1024): \n",
    "            if chunk: # filter out keep-alive new chunks\n",
    "                f.write(chunk)\n",
    "                f.flush()"
   ]
  },
  {
   "cell_type": "markdown",
   "metadata": {},
   "source": [
    "Now we'll specify the url of the file and the file name we will save to"
   ]
  },
  {
   "cell_type": "code",
   "execution_count": 1,
   "metadata": {
    "collapsed": true
   },
   "outputs": [],
   "source": [
    "url = 'https://raw.githubusercontent.com/dsiufl/Python-Workshops/master/humanresource.csv'\n",
    "filename = 'humanresource.csv'"
   ]
  },
  {
   "cell_type": "markdown",
   "metadata": {},
   "source": [
    "And make a call to <code>download_file</code>"
   ]
  },
  {
   "cell_type": "code",
   "execution_count": 4,
   "metadata": {},
   "outputs": [],
   "source": [
    "download_file(url, filename)"
   ]
  },
  {
   "cell_type": "markdown",
   "metadata": {},
   "source": [
    "**Note:**  If you see an InsecurePlatformWarning message, ignore it. More info can be found here: https://urllib3.readthedocs.org/en/latest/security.html#insecureplatformwarning\n",
    "\n",
    "Now this might seem like overkill for downloading a single, small csv file, but we can use this same function to access countless APIs available on the World Wide Web by building an API request in the url.\n",
    "\n",
    "## Wrangling the Data\n",
    "Now that we have some data, lets get it into a useful form.  For this task we will use a package called pandas. pandas is an open source, BSD-licensed library providing high-performance, easy-to-use data structures and data analysis tools for Python.  The most fundamental data structure in pandas is the dataframe, which is similar to the data.frame data structure found in the R statistical programming language.\n",
    "\n",
    "For more information: http://pandas.pydata.org\n",
    "\n",
    "pandas dataframes are a 2-dimensional labeled data structures with columns of potentially different types.  Dataframes can be thought of as similar to a spreadsheet or SQL table.\n",
    "\n",
    "There are numerous ways to build a dataframe with pandas.  Since we have already attained a csv file, we can use a parser built into pandas called <code>read_csv</code> which will read the contents of a csv file directly into a data frame.\n",
    "\n",
    "For more information: http://pandas.pydata.org/pandas-docs/dev/generated/pandas.io.parsers.read_csv.html"
   ]
  },
  {
   "cell_type": "code",
   "execution_count": 11,
   "metadata": {},
   "outputs": [],
   "source": [
    "# import the module and alias it as pd\n",
    "\n"
   ]
  },
  {
   "cell_type": "markdown",
   "metadata": {},
   "source": [
    "Lets take a look at some simple statistics for the **Psychiatrists working in mental health sector (per 100,000) column** for 2011."
   ]
  },
  {
   "cell_type": "code",
   "execution_count": null,
   "metadata": {},
   "outputs": [],
   "source": []
  },
  {
   "cell_type": "markdown",
   "metadata": {},
   "source": [
    "Wow! 6 Psychiatrists per 100,000 people was the 75th percentile of this data! When dealing with sets of data with different hierarchial categories, we will want to implement something called a MultiIndex table. They seem daunting at first, but after tinkering with them for a while you'll find they're very helpful in data cleaning and analysis. \n",
    "\n",
    "Read more here: http://pandas.pydata.org/pandas-docs/stable/advanced.html"
   ]
  },
  {
   "cell_type": "code",
   "execution_count": 10,
   "metadata": {},
   "outputs": [],
   "source": [
    "# having countries as our columns will make extracting their values much easier\n",
    "# it's much better writing the name of a country rather than the full title of the category when slicing!\n",
    "# we will use a transpose function to visualize what we want\n",
    "# you will soon see what the transpose function does (if you've taken linear algebra, you can take a guess)\n",
    "\n"
   ]
  },
  {
   "cell_type": "markdown",
   "metadata": {},
   "source": [
    "Almost there! Now the values of our first row have to become our column names so we can slice with them."
   ]
  },
  {
   "cell_type": "code",
   "execution_count": 1,
   "metadata": {},
   "outputs": [],
   "source": [
    "\n",
    "# dropping the first row, we don't need it!\n",
    "\n",
    "\n",
    "\n"
   ]
  },
  {
   "cell_type": "markdown",
   "metadata": {},
   "source": [
    "There's one more variable we will want to access: year. But it's stuck in a column. We could still utilize it using conditional slicing, but that's annoying. Instead, we will try to construct a MultiIndex dataframe! First, we need tuples for our index. We will create a list of all the categories, a list of all the years, then use itertools product (like a cartesian product, see here: https://docs.python.org/3/library/itertools.html#itertools.product) to create our tuple list."
   ]
  },
  {
   "cell_type": "code",
   "execution_count": 13,
   "metadata": {},
   "outputs": [],
   "source": [
    "# bring out those Python0 list techniques! \n",
    "# we will need a list of tuples that contain each primary index and all of their possible values\n",
    "# like so: [(a,1),(a,2),(b,1),(b,2) ...]\n",
    "\n",
    "# get the categories \n",
    "\n",
    "cats = ...\n",
    "\n",
    "# and list the years (in order!)\n",
    "\n",
    "yrs = ...\n",
    "\n",
    "# itertools is a powerful library that has many applications \n",
    "\n",
    "import itertools \n",
    "\n",
    "index_tuple = ..."
   ]
  },
  {
   "cell_type": "markdown",
   "metadata": {},
   "source": [
    "Now we create a MultiIndex object and match our data by \"joining\" the country data with the index."
   ]
  },
  {
   "cell_type": "code",
   "execution_count": 2,
   "metadata": {},
   "outputs": [],
   "source": [
    "\n",
    "# attach to the index\n",
    "\n",
    "# we need to truncate the data because our first column of our table still consists of the years \n",
    "\n",
    "\n",
    "# for some reason, we need to convert the list of countries into a series\n",
    "\n",
    "\n",
    "# now finish the table with the right column names\n",
    "\n"
   ]
  },
  {
   "cell_type": "markdown",
   "metadata": {},
   "source": [
    "## EDA: Exploratory Data Analysis \n",
    "\n",
    "Now that we have cleaned the data, it's time to move onto the most important step of data science: EDA! What can we find? Do we see any clues on what we should visualize?"
   ]
  },
  {
   "cell_type": "code",
   "execution_count": null,
   "metadata": {},
   "outputs": [],
   "source": []
  },
  {
   "cell_type": "markdown",
   "metadata": {},
   "source": [
    "Looks like we have some missing data. There are many methods concerning how to deal with this, but for now we will try to ignore them."
   ]
  },
  {
   "cell_type": "code",
   "execution_count": 3,
   "metadata": {},
   "outputs": [],
   "source": [
    "# what are our maximum values? \n",
    "\n"
   ]
  },
  {
   "cell_type": "markdown",
   "metadata": {},
   "source": [
    "Let's get a better understanding of the change over time between 2014 and 2011. We will make a table called psych_data_diff that takes the difference of the two years for each country in category. "
   ]
  },
  {
   "cell_type": "code",
   "execution_count": 4,
   "metadata": {},
   "outputs": [],
   "source": [
    "# swap the levels of the index. that way we can group by category. \n",
    "\n",
    "\n",
    "# now utilize the groupby method for 'Category.' level 1 because we are working vertically. \n",
    "\n",
    "# now use the .agg method and create our own lambda function to get the value we want.\n",
    "\n",
    "# assign to a variable and we're done! \n",
    "\n",
    "\n",
    "# this will show us the changes and countries in increasing order\n",
    "\n"
   ]
  },
  {
   "cell_type": "markdown",
   "metadata": {
    "collapsed": true
   },
   "source": [
    "## Visualizing the Data\n",
    "Another important tool in the data scientist's toolbox is the ability to create visualizations from data.  Visualizing data is often the most logical place to start getting a deeper intuition of the data.  This intuition will shape and drive your analysis.\n",
    "\n",
    "Even more important than visualizing data for your own personal benefit, it is often the job of the data scientist to use the data to tell a story.  Creating illustrative visuals that succinctly convey an idea are the best way to tell that story, especially to stakeholders with less technical skillsets.\n",
    "\n",
    "Here we will be using a Python package called seaborn (https://seaborn.pydata.org/).\n",
    "\n",
    "NOTE: If seaborn does not work, please try this <code>pip3 remove seaborn && pip3 install seaborn==0.9.0</code>\n",
    "\n",
    "We'll start by doing a bit of setup:"
   ]
  },
  {
   "cell_type": "code",
   "execution_count": 654,
   "metadata": {
    "collapsed": true
   },
   "outputs": [],
   "source": [
    "# The following line is NOT Python code, but a special syntax for enabling inline plotting in IPython\n",
    "%matplotlib inline \n",
    "import matplotlib as plt\n",
    "import seaborn as sns\n",
    "\n"
   ]
  },
  {
   "cell_type": "code",
   "execution_count": 5,
   "metadata": {},
   "outputs": [],
   "source": [
    "# lets make a histogram of the differences in data \n",
    "\n",
    "# we will use .iloc to work with the psychiatry practice data \n"
   ]
  },
  {
   "cell_type": "markdown",
   "metadata": {},
   "source": [
    "Most of the countries had no difference! Some of them even lost psychiatrists. Why? Were there too many psychiatrists?"
   ]
  },
  {
   "cell_type": "code",
   "execution_count": 6,
   "metadata": {},
   "outputs": [],
   "source": [
    "# lets see how many psychiatrists per 100,000 people countries had in 2011\n",
    "\n",
    "# again select the psychiatry data, drop null values, and convert the data type \n",
    "\n",
    "\n",
    "# .set_title(\"Psychiatrists Working in 2011 (per 100,000)\")"
   ]
  },
  {
   "cell_type": "markdown",
   "metadata": {},
   "source": [
    "#### More Visual Fun \n",
    "\n",
    "Below, there are some other plot types that took some calculation to get to. We will walk through the code, but the important focus is understanding the graphs themselves."
   ]
  },
  {
   "cell_type": "code",
   "execution_count": null,
   "metadata": {},
   "outputs": [],
   "source": []
  },
  {
   "cell_type": "code",
   "execution_count": null,
   "metadata": {},
   "outputs": [],
   "source": []
  },
  {
   "cell_type": "code",
   "execution_count": null,
   "metadata": {},
   "outputs": [],
   "source": []
  },
  {
   "cell_type": "code",
   "execution_count": null,
   "metadata": {},
   "outputs": [],
   "source": []
  },
  {
   "cell_type": "markdown",
   "metadata": {},
   "source": [
    "# Now What? Summary and Python II\n",
    "\n",
    "In the second part of our three-part Python series, we've learned about variables, data structures, functions, and graphing. While we have introduced these topics in the context of data science with Python, they are central to programming in any language and in any context. We have also laid the foundation for programmatically obtaining, cleaning, and visualizing data sets.\n",
    "\n",
    "Now that we have an understanding of how to obtain and visualize some simple statistical information contained in a dataset, we've set the stage for machine learning and data analysis. These topics will be covered in depth in our next workshop, Python II.\n",
    "\n",
    "What's next? What can we conclude? Almost nothing. We've seen some interesting data, but we need to take into account data source, bias, confounding variables, and outliers. Is there an issue with what we've seen? To answer that, we need to know if there's an issue in the first place! Maybe the demand for mental health professionals is met. We need more data to come close to making any kind of inference. The work you could do on a dataset like this is almost limitless!  \n",
    "\n",
    "Please fill out the post workshop survey posted on the Facebook event page!\n",
    "\n",
    "Don't forget about our next workshop, Python 2, and our upcoming workshops this semester, including the R workshop series, sports data analysis in R, Data Visualization in Python, and more!"
   ]
  }
 ],
 "metadata": {
  "kernelspec": {
   "display_name": "Python 3",
   "language": "python",
   "name": "python3"
  },
  "language_info": {
   "codemirror_mode": {
    "name": "ipython",
    "version": 3
   },
   "file_extension": ".py",
   "mimetype": "text/x-python",
   "name": "python",
   "nbconvert_exporter": "python",
   "pygments_lexer": "ipython3",
   "version": "3.6.4"
  }
 },
 "nbformat": 4,
 "nbformat_minor": 1
}
