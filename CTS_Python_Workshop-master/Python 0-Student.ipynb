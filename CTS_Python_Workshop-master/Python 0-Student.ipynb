{
 "cells": [
  {
   "cell_type": "markdown",
   "metadata": {},
   "source": [
    "# Welcome to Python : An Introduction to Data Science\n",
    "\n",
    "Please sign in if you have not already. We use this data to improve our workshops!\n",
    "\n",
    "### About UF DSI\n",
    "\n",
    "We are an multi- and inter- disciplinary student organization that is dediated to promoting Data Science here at the Univeristy of Florida. We are partnered with the UF Informatics Institute who's aim is to foster informatics research and education.\n",
    "\n",
    "### What is Python?\n",
    "\n",
    "Python is an easy-to-use and robust **Object-Oriented** programming language. A lot of new software application are built with Python for this reason. It is used in other areas of computer science such and software engineering, digital arts, cybersecurity, and of course Data Science! \n",
    "\n",
    "This is a workshop that will introduce you to the basics of python and introduce you to Data Science and Visualization in Python. Due to the breadth of the language there are still many topics left for you to explore! Here we teach you the necessary skills. \n"
   ]
  },
  {
   "cell_type": "markdown",
   "metadata": {},
   "source": [
    "## Variables and Types"
   ]
  },
  {
   "cell_type": "markdown",
   "metadata": {},
   "source": [
    "#### Calculator\n",
    "\n",
    "Python can be used as a calculator. <code>Shift+Enter</code> runs the code block so you don't have to click run every time"
   ]
  },
  {
   "cell_type": "code",
   "execution_count": 1,
   "metadata": {},
   "outputs": [],
   "source": [
    "# Addition and Subtraction\n"
   ]
  },
  {
   "cell_type": "code",
   "execution_count": 2,
   "metadata": {},
   "outputs": [],
   "source": [
    "# Multiplication and Division\n"
   ]
  },
  {
   "cell_type": "code",
   "execution_count": 3,
   "metadata": {},
   "outputs": [],
   "source": [
    "# Exponentation\n"
   ]
  },
  {
   "cell_type": "markdown",
   "metadata": {},
   "source": [
    "Variables can be given alphanumeric names beginning with an underscore or letter.  Variable types do not have to be declared and are inferred at run time."
   ]
  },
  {
   "cell_type": "code",
   "execution_count": 4,
   "metadata": {},
   "outputs": [],
   "source": [
    "# Built in function"
   ]
  },
  {
   "cell_type": "code",
   "execution_count": null,
   "metadata": {},
   "outputs": [],
   "source": []
  },
  {
   "cell_type": "markdown",
   "metadata": {},
   "source": [
    "Strings can be declared with either single or double quotes."
   ]
  },
  {
   "cell_type": "code",
   "execution_count": null,
   "metadata": {},
   "outputs": [],
   "source": [
    "\n"
   ]
  },
  {
   "cell_type": "markdown",
   "metadata": {},
   "source": [
    "## Modules and Import\n",
    "Files with a .py extension are known as Modules in Python.  Modules are used to store functions, variables, and class definitions.  \n",
    "\n",
    "Modules that are not part of the standard Python library are included in your program using the <code>import</code> statement."
   ]
  },
  {
   "cell_type": "code",
   "execution_count": 5,
   "metadata": {},
   "outputs": [],
   "source": [
    "# To use Math, we must import it"
   ]
  },
  {
   "cell_type": "markdown",
   "metadata": {},
   "source": [
    "Whoops.  Importing the <code>math</code> module allows us access to all of its functions, but we must call them in this way"
   ]
  },
  {
   "cell_type": "code",
   "execution_count": null,
   "metadata": {},
   "outputs": [],
   "source": []
  },
  {
   "cell_type": "markdown",
   "metadata": {},
   "source": [
    "Alternatively, you can use the <code>from</code> keyword"
   ]
  },
  {
   "cell_type": "code",
   "execution_count": 6,
   "metadata": {},
   "outputs": [],
   "source": [
    "# we only imported cos, not the pi constant"
   ]
  },
  {
   "cell_type": "markdown",
   "metadata": {},
   "source": [
    "Using the <code>from</code> statement we can import everything from the math module.  \n",
    "\n",
    "Disclaimer: many Pythonistas discourage doing this for performance reasons.  Just import what you need"
   ]
  },
  {
   "cell_type": "code",
   "execution_count": 7,
   "metadata": {},
   "outputs": [],
   "source": [
    " # now we don't have to make a call to math"
   ]
  },
  {
   "cell_type": "markdown",
   "metadata": {},
   "source": [
    "## Strings\n",
    "As you may expect, Python has a powerful, full featured string module.  \n",
    "\n",
    "### Substrings\n",
    "Python strings can be substringed using bracket syntax"
   ]
  },
  {
   "cell_type": "code",
   "execution_count": null,
   "metadata": {},
   "outputs": [],
   "source": []
  },
  {
   "cell_type": "markdown",
   "metadata": {},
   "source": [
    "Python is a 0-index based language.  Generally whenever forming a range of values in Python, the first argument is inclusive whereas the second is not, i.e. <code>mystring[11:25]</code> returns characters 11 through 24.\n",
    "\n",
    "You can omit the first or second argument"
   ]
  },
  {
   "cell_type": "code",
   "execution_count": 8,
   "metadata": {},
   "outputs": [],
   "source": [
    "# all characters before the 9th index"
   ]
  },
  {
   "cell_type": "code",
   "execution_count": 9,
   "metadata": {},
   "outputs": [],
   "source": [
    "# all characters at or after the 27th"
   ]
  },
  {
   "cell_type": "code",
   "execution_count": 10,
   "metadata": {},
   "outputs": [],
   "source": [
    " # you can even omit both arguments"
   ]
  },
  {
   "cell_type": "markdown",
   "metadata": {},
   "source": [
    "Using negative values, you can count positions backwards"
   ]
  },
  {
   "cell_type": "code",
   "execution_count": null,
   "metadata": {},
   "outputs": [],
   "source": []
  },
  {
   "cell_type": "markdown",
   "metadata": {},
   "source": [
    "### String Functions\n",
    "Here are some more useful string functions\n",
    "#### find"
   ]
  },
  {
   "cell_type": "code",
   "execution_count": 11,
   "metadata": {},
   "outputs": [],
   "source": [
    "# returns the index of the first occurence of Gators"
   ]
  },
  {
   "cell_type": "markdown",
   "metadata": {},
   "source": [
    "Looks like nothing was found.  -1 is returned by default."
   ]
  },
  {
   "cell_type": "code",
   "execution_count": 12,
   "metadata": {},
   "outputs": [],
   "source": [
    "# no Seminoles here"
   ]
  },
  {
   "cell_type": "markdown",
   "metadata": {},
   "source": [
    "#### lower and upper"
   ]
  },
  {
   "cell_type": "code",
   "execution_count": null,
   "metadata": {},
   "outputs": [],
   "source": []
  },
  {
   "cell_type": "markdown",
   "metadata": {},
   "source": [
    "#### split"
   ]
  },
  {
   "cell_type": "code",
   "execution_count": 13,
   "metadata": {},
   "outputs": [],
   "source": [
    " # returns a list of strings broken by a space by default"
   ]
  },
  {
   "cell_type": "code",
   "execution_count": 14,
   "metadata": {},
   "outputs": [],
   "source": [
    " # you can also define the separator"
   ]
  },
  {
   "cell_type": "markdown",
   "metadata": {},
   "source": [
    "#### join\n",
    "\n",
    "The <code>join</code> is useful for building strings from lists or other iterables.  Call <code>join</code> on the desired separator"
   ]
  },
  {
   "cell_type": "code",
   "execution_count": null,
   "metadata": {},
   "outputs": [],
   "source": []
  },
  {
   "cell_type": "markdown",
   "metadata": {},
   "source": [
    "For more information on string functions:\n",
    "\n",
    "https://docs.python.org/2/library/stdtypes.html#string-methods"
   ]
  },
  {
   "cell_type": "markdown",
   "metadata": {},
   "source": [
    "## Lists\n",
    "The Python standard library does not have traditional C-style fixed-memory fixed-type arrays.  Instead, lists are used and can contain a mix of any type.\n",
    "\n",
    "Lists are created with square brackets []"
   ]
  },
  {
   "cell_type": "code",
   "execution_count": null,
   "metadata": {},
   "outputs": [],
   "source": [
    "mylist = [1, 2, 3, 4, 'five']\n",
    "print(mylist)"
   ]
  },
  {
   "cell_type": "code",
   "execution_count": null,
   "metadata": {},
   "outputs": [],
   "source": [
    "# add an item to the end of the list\n",
    "print(mylist)"
   ]
  },
  {
   "cell_type": "code",
   "execution_count": null,
   "metadata": {},
   "outputs": [],
   "source": [
    " # insert the number 7 at index 6\n",
    "print(mylist)"
   ]
  },
  {
   "cell_type": "code",
   "execution_count": null,
   "metadata": {},
   "outputs": [],
   "source": [
    " # removes the first matching occurence \n",
    "print(mylist)"
   ]
  },
  {
   "cell_type": "code",
   "execution_count": null,
   "metadata": {
    "scrolled": true
   },
   "outputs": [],
   "source": [
    "# by default, the last item in the list is removed and returned\n",
    "print(popped)\n",
    "print(mylist)"
   ]
  },
  {
   "cell_type": "code",
   "execution_count": null,
   "metadata": {},
   "outputs": [],
   "source": [
    "# returns the length of any iterable such as lists and strings"
   ]
  },
  {
   "cell_type": "code",
   "execution_count": null,
   "metadata": {},
   "outputs": [],
   "source": [
    "# default list sorting. When more complex objects are in the list, arguments can be used to customize how to sort\n",
    "\n",
    "print(mylist)"
   ]
  },
  {
   "cell_type": "code",
   "execution_count": null,
   "metadata": {},
   "outputs": [],
   "source": [
    "# reverse the list\n",
    "print(mylist)"
   ]
  },
  {
   "cell_type": "markdown",
   "metadata": {},
   "source": [
    "For more information on Lists:\n",
    "\n",
    "https://docs.python.org/2/tutorial/datastructures.html#more-on-lists"
   ]
  },
  {
   "cell_type": "markdown",
   "metadata": {},
   "source": [
    "## Conditionals\n",
    "Python supports the standard if-else-if conditional expression. REMEMBER TO INDENT"
   ]
  },
  {
   "cell_type": "code",
   "execution_count": null,
   "metadata": {},
   "outputs": [],
   "source": [
    "a = 1; b = 2\n",
    "\n",
    "if a > b:\n",
    "    print (\"a is greater than b\")\n",
    "elif a < b:\n",
    "    print (\"a is less than b\")\n",
    "else:\n",
    "    print(\"a is equal to b\")"
   ]
  },
  {
   "cell_type": "markdown",
   "metadata": {},
   "source": [
    "## Loops\n",
    "Python supports for, foreach, and while loops\n",
    "### For (counting)\n",
    "Traditional counting loops are accomplished in Python with a combination of the <code>for</code> key word and the <code>range</code> function"
   ]
  },
  {
   "cell_type": "code",
   "execution_count": null,
   "metadata": {},
   "outputs": [],
   "source": [
    " # with one argument, range produces integers from 0 to 9\n"
   ]
  },
  {
   "cell_type": "code",
   "execution_count": null,
   "metadata": {},
   "outputs": [],
   "source": [
    "# with three arguments, range starts at 1 and goes in steps of 3 until greater than 12\n"
   ]
  },
  {
   "cell_type": "markdown",
   "metadata": {},
   "source": [
    "### Foreach\n",
    "As it turns out, counting loops are just foreach loops in Python.  The <code>range</code> function returns a list of integers over which <code>for in</code> iterates.  This can be extended to any other iterable type"
   ]
  },
  {
   "cell_type": "code",
   "execution_count": null,
   "metadata": {},
   "outputs": [],
   "source": [
    "# iterate over a list of strings\n"
   ]
  },
  {
   "cell_type": "markdown",
   "metadata": {},
   "source": [
    "## Functions\n",
    "Functions in Python do not have a distinction between those that do and do not return a value.  If a value is returned, the type is not declared.\n",
    "\n",
    "Functions can be declared in any module without any distinction between static and non-static.  Functions can even be declared within other functions\n",
    "\n",
    "The syntax is the following"
   ]
  },
  {
   "cell_type": "code",
   "execution_count": null,
   "metadata": {},
   "outputs": [],
   "source": []
  },
  {
   "cell_type": "code",
   "execution_count": null,
   "metadata": {},
   "outputs": [],
   "source": [
    " # use some arguments \n",
    "    # cast number to a string when concatenating\n",
    "    \n"
   ]
  },
  {
   "cell_type": "markdown",
   "metadata": {},
   "source": [
    "Functions can have optional arguments if a default value is provided in the function signature"
   ]
  },
  {
   "cell_type": "code",
   "execution_count": null,
   "metadata": {},
   "outputs": [],
   "source": [
    "# optional team argument\n",
    "\n",
    "    \n",
    "# no team argument supplied"
   ]
  },
  {
   "cell_type": "code",
   "execution_count": null,
   "metadata": {},
   "outputs": [],
   "source": [
    "# supplying all three arguments"
   ]
  },
  {
   "cell_type": "markdown",
   "metadata": {},
   "source": [
    "Python functions can be called using named arguments, instead of positional"
   ]
  },
  {
   "cell_type": "code",
   "execution_count": null,
   "metadata": {},
   "outputs": [],
   "source": []
  },
  {
   "cell_type": "markdown",
   "metadata": {},
   "source": [
    "### return\n",
    "In Python functions, an arbitrary number of values can be returned"
   ]
  },
  {
   "cell_type": "code",
   "execution_count": null,
   "metadata": {},
   "outputs": [],
   "source": [
    "# return a single value\n",
    "\n"
   ]
  },
  {
   "cell_type": "markdown",
   "metadata": {},
   "source": [
    "# Data Science Tutorial\n",
    "Now that we've covered some Python basics, we will begin a tutorial going through many tasks a data scientist may perform.  We will obtain real world data and go through the process of auditing, analyzing, visualing, and building classifiers from the data.\n",
    "\n",
    "We will use a database of selected professor salaries which can be found using this link: \n",
    "https://data.austintexas.gov/Health-and-Community-Services/Client-Demographics-for-the-Medical-Transportation/6jna-snvk\n",
    "\n",
    "This data covers the demographics of Medical Transport Program by the Ryan White Grants\n",
    "## Obtaining the Data\n",
    "Using the pandas library we can easily import data from a given link or from a file on our computer (must know syntax for filepath). In this case we will give it a link."
   ]
  },
  {
   "cell_type": "code",
   "execution_count": 28,
   "metadata": {},
   "outputs": [
    {
     "data": {
      "text/html": [
       "<div>\n",
       "<style scoped>\n",
       "    .dataframe tbody tr th:only-of-type {\n",
       "        vertical-align: middle;\n",
       "    }\n",
       "\n",
       "    .dataframe tbody tr th {\n",
       "        vertical-align: top;\n",
       "    }\n",
       "\n",
       "    .dataframe thead th {\n",
       "        text-align: right;\n",
       "    }\n",
       "</style>\n",
       "<table border=\"1\" class=\"dataframe\">\n",
       "  <thead>\n",
       "    <tr style=\"text-align: right;\">\n",
       "      <th></th>\n",
       "      <th>Client ID</th>\n",
       "      <th>Age Range</th>\n",
       "      <th>Gender</th>\n",
       "      <th>Education Level</th>\n",
       "      <th>Insurance</th>\n",
       "      <th>Race</th>\n",
       "      <th>Hispanic Ethnicity</th>\n",
       "      <th>Language Primary</th>\n",
       "      <th>Living Situation</th>\n",
       "      <th>31 - Day Metro Pass</th>\n",
       "      <th>...</th>\n",
       "      <th>Disability Fare Card</th>\n",
       "      <th>Gas Voucher</th>\n",
       "      <th>Metro ACCESS book</th>\n",
       "      <th>STS ticket</th>\n",
       "      <th>Taxi Voucher</th>\n",
       "      <th>Van/Car Ride</th>\n",
       "      <th>Agency</th>\n",
       "      <th>Grant Year</th>\n",
       "      <th>Grant Dates</th>\n",
       "      <th>Grant Name</th>\n",
       "    </tr>\n",
       "  </thead>\n",
       "  <tbody>\n",
       "    <tr>\n",
       "      <th>0</th>\n",
       "      <td>10015</td>\n",
       "      <td>61 - 70</td>\n",
       "      <td>Female</td>\n",
       "      <td>Some college education</td>\n",
       "      <td>Medi-Cal/Medicaid</td>\n",
       "      <td>White</td>\n",
       "      <td>False</td>\n",
       "      <td>English</td>\n",
       "      <td>Rental housing</td>\n",
       "      <td>NaN</td>\n",
       "      <td>...</td>\n",
       "      <td>NaN</td>\n",
       "      <td>NaN</td>\n",
       "      <td>NaN</td>\n",
       "      <td>NaN</td>\n",
       "      <td>NaN</td>\n",
       "      <td>43.0</td>\n",
       "      <td>Community Action</td>\n",
       "      <td>2013</td>\n",
       "      <td>1/1/2013-12/31/2013</td>\n",
       "      <td>Ryan White Part C</td>\n",
       "    </tr>\n",
       "    <tr>\n",
       "      <th>1</th>\n",
       "      <td>10015</td>\n",
       "      <td>61 - 70</td>\n",
       "      <td>Female</td>\n",
       "      <td>Some college education</td>\n",
       "      <td>Medi-Cal/Medicaid</td>\n",
       "      <td>White</td>\n",
       "      <td>False</td>\n",
       "      <td>English</td>\n",
       "      <td>Rental housing</td>\n",
       "      <td>NaN</td>\n",
       "      <td>...</td>\n",
       "      <td>NaN</td>\n",
       "      <td>NaN</td>\n",
       "      <td>NaN</td>\n",
       "      <td>NaN</td>\n",
       "      <td>NaN</td>\n",
       "      <td>52.0</td>\n",
       "      <td>Community Action</td>\n",
       "      <td>2014</td>\n",
       "      <td>1/1/2014-12/31/2014</td>\n",
       "      <td>Ryan White Part C</td>\n",
       "    </tr>\n",
       "    <tr>\n",
       "      <th>2</th>\n",
       "      <td>10015</td>\n",
       "      <td>61 - 70</td>\n",
       "      <td>Female</td>\n",
       "      <td>Some college education</td>\n",
       "      <td>Medi-Cal/Medicaid</td>\n",
       "      <td>White</td>\n",
       "      <td>False</td>\n",
       "      <td>English</td>\n",
       "      <td>Rental housing</td>\n",
       "      <td>NaN</td>\n",
       "      <td>...</td>\n",
       "      <td>NaN</td>\n",
       "      <td>6.0</td>\n",
       "      <td>NaN</td>\n",
       "      <td>NaN</td>\n",
       "      <td>NaN</td>\n",
       "      <td>36.0</td>\n",
       "      <td>Community Action</td>\n",
       "      <td>2015</td>\n",
       "      <td>1/1/2015-12/31/2015</td>\n",
       "      <td>Ryan White Part C</td>\n",
       "    </tr>\n",
       "    <tr>\n",
       "      <th>3</th>\n",
       "      <td>10015</td>\n",
       "      <td>61 - 70</td>\n",
       "      <td>Female</td>\n",
       "      <td>Some college education</td>\n",
       "      <td>Medi-Cal/Medicaid</td>\n",
       "      <td>White</td>\n",
       "      <td>False</td>\n",
       "      <td>English</td>\n",
       "      <td>Rental housing</td>\n",
       "      <td>NaN</td>\n",
       "      <td>...</td>\n",
       "      <td>NaN</td>\n",
       "      <td>9.0</td>\n",
       "      <td>NaN</td>\n",
       "      <td>NaN</td>\n",
       "      <td>NaN</td>\n",
       "      <td>21.0</td>\n",
       "      <td>Community Action</td>\n",
       "      <td>2015</td>\n",
       "      <td>1/1/2015-12/31/2015</td>\n",
       "      <td>Ryan White Part C</td>\n",
       "    </tr>\n",
       "    <tr>\n",
       "      <th>4</th>\n",
       "      <td>10015</td>\n",
       "      <td>61 - 70</td>\n",
       "      <td>Female</td>\n",
       "      <td>Some college education</td>\n",
       "      <td>Medi-Cal/Medicaid</td>\n",
       "      <td>White</td>\n",
       "      <td>False</td>\n",
       "      <td>English</td>\n",
       "      <td>Rental housing</td>\n",
       "      <td>NaN</td>\n",
       "      <td>...</td>\n",
       "      <td>NaN</td>\n",
       "      <td>9.0</td>\n",
       "      <td>NaN</td>\n",
       "      <td>NaN</td>\n",
       "      <td>NaN</td>\n",
       "      <td>21.0</td>\n",
       "      <td>Community Action</td>\n",
       "      <td>2016</td>\n",
       "      <td>1/1/2016-12/31/2016</td>\n",
       "      <td>Ryan White Part C</td>\n",
       "    </tr>\n",
       "  </tbody>\n",
       "</table>\n",
       "<p>5 rows × 21 columns</p>\n",
       "</div>"
      ],
      "text/plain": [
       "   Client ID Age Range  Gender         Education Level          Insurance  \\\n",
       "0      10015   61 - 70  Female  Some college education  Medi-Cal/Medicaid   \n",
       "1      10015   61 - 70  Female  Some college education  Medi-Cal/Medicaid   \n",
       "2      10015   61 - 70  Female  Some college education  Medi-Cal/Medicaid   \n",
       "3      10015   61 - 70  Female  Some college education  Medi-Cal/Medicaid   \n",
       "4      10015   61 - 70  Female  Some college education  Medi-Cal/Medicaid   \n",
       "\n",
       "    Race  Hispanic Ethnicity Language Primary Living Situation  \\\n",
       "0  White               False          English   Rental housing   \n",
       "1  White               False          English   Rental housing   \n",
       "2  White               False          English   Rental housing   \n",
       "3  White               False          English   Rental housing   \n",
       "4  White               False          English   Rental housing   \n",
       "\n",
       "   31 - Day Metro Pass        ...          Disability Fare Card  Gas Voucher  \\\n",
       "0                  NaN        ...                           NaN          NaN   \n",
       "1                  NaN        ...                           NaN          NaN   \n",
       "2                  NaN        ...                           NaN          6.0   \n",
       "3                  NaN        ...                           NaN          9.0   \n",
       "4                  NaN        ...                           NaN          9.0   \n",
       "\n",
       "   Metro ACCESS book  STS ticket  Taxi Voucher  Van/Car Ride  \\\n",
       "0                NaN         NaN           NaN          43.0   \n",
       "1                NaN         NaN           NaN          52.0   \n",
       "2                NaN         NaN           NaN          36.0   \n",
       "3                NaN         NaN           NaN          21.0   \n",
       "4                NaN         NaN           NaN          21.0   \n",
       "\n",
       "             Agency Grant Year          Grant Dates         Grant Name  \n",
       "0  Community Action       2013  1/1/2013-12/31/2013  Ryan White Part C  \n",
       "1  Community Action       2014  1/1/2014-12/31/2014  Ryan White Part C  \n",
       "2  Community Action       2015  1/1/2015-12/31/2015  Ryan White Part C  \n",
       "3  Community Action       2015  1/1/2015-12/31/2015  Ryan White Part C  \n",
       "4  Community Action       2016  1/1/2016-12/31/2016  Ryan White Part C  \n",
       "\n",
       "[5 rows x 21 columns]"
      ]
     },
     "execution_count": 28,
     "metadata": {},
     "output_type": "execute_result"
    }
   ],
   "source": [
    "import pandas as pd # import the module and alias it as pd\n",
    "\n",
    "data = pd.read_csv('data.csv')\n",
    "data.head() # show the first few rows of the data"
   ]
  },
  {
   "cell_type": "markdown",
   "metadata": {},
   "source": [
    "## Accessing your data"
   ]
  },
  {
   "cell_type": "code",
   "execution_count": null,
   "metadata": {},
   "outputs": [],
   "source": []
  },
  {
   "cell_type": "code",
   "execution_count": 15,
   "metadata": {},
   "outputs": [],
   "source": [
    "# Better way using loc\n"
   ]
  },
  {
   "cell_type": "markdown",
   "metadata": {},
   "source": [
    "#### Looking at all the columns"
   ]
  },
  {
   "cell_type": "code",
   "execution_count": null,
   "metadata": {},
   "outputs": [],
   "source": []
  },
  {
   "cell_type": "markdown",
   "metadata": {},
   "source": [
    "### Check Unique Values and Types"
   ]
  },
  {
   "cell_type": "code",
   "execution_count": 67,
   "metadata": {},
   "outputs": [
    {
     "data": {
      "text/plain": [
       "array([ nan,   6.,   9.,   5.,  12.,   3.,  21.,  14.,   7.,  10.,   2.,\n",
       "        22.,  27.,   4.,  11.,  50.,  51.,  53.,  15.,   1.,   8.,  13.,\n",
       "        45.,  24.,  38.,  16.,  25.,  17.,  34.,  48.,  58.,  39.,  60.,\n",
       "        28.,  40.,  19.,  29.,  36.,  18.,  20.,  26.,  35.,  31.,  46.,\n",
       "        54.,  65.,  71.,  66.,  72., 101.,  41.,  78.,  32.,  44.])"
      ]
     },
     "execution_count": 67,
     "metadata": {},
     "output_type": "execute_result"
    }
   ],
   "source": []
  },
  {
   "cell_type": "code",
   "execution_count": 16,
   "metadata": {},
   "outputs": [],
   "source": [
    "# quick way to look at all the types\n",
    "for x in data.columns:\n",
    "    print(x + \"\\t\\t\\t\" + str(type(data.loc[:,x].unique()[0])))"
   ]
  },
  {
   "cell_type": "markdown",
   "metadata": {},
   "source": [
    "#### Accessing Data using Index"
   ]
  },
  {
   "cell_type": "code",
   "execution_count": null,
   "metadata": {
    "scrolled": true
   },
   "outputs": [],
   "source": []
  },
  {
   "cell_type": "markdown",
   "metadata": {},
   "source": [
    "Structurally, Pandas dataframes are a collection of Series objects sharing a common index.  In general, the Series object and Dataframe object share a large number of functions with some behavioral differences.  In other words, whatever computation you can do on a single column can generally be applied to the entire dataframe.\n",
    "\n",
    "Now we can use the dataframe version of <code>describe</code> to get an overview of all of our data"
   ]
  },
  {
   "cell_type": "code",
   "execution_count": null,
   "metadata": {},
   "outputs": [],
   "source": []
  },
  {
   "cell_type": "markdown",
   "metadata": {
    "collapsed": true
   },
   "source": [
    "## Visualizing the Data and EDA\n",
    "Another important tool in the data scientist's toolbox is the ability to create visualizations from data.  Visualizing data is often the most logical place to start getting a deeper intuition of the data.  This intuition will shape and drive your analysis.\n",
    "\n",
    "Even more important than visualizing data for your own personal benefit, it is often the job of the data scientist to use the data to tell a story.  Creating illustrative visuals that succinctly convey an idea are the best way to tell that story, especially to stakeholders with less technical skillsets.\n",
    "\n",
    "We'll be using the plotting library matplotlib, which stands for mathematical plotting library. It is the most widely used plotting library, and has a few other packages built on top of it (like a library called seaborn) to make your plots even more beautiful and easy to use. \n",
    "\n",
    "We'll start by doing a bit of setup."
   ]
  },
  {
   "cell_type": "code",
   "execution_count": 77,
   "metadata": {},
   "outputs": [],
   "source": [
    "#importing matplotlib library with an alias as well as the seaborn library\n",
    "import matplotlib.pyplot as plt \n",
    "import seaborn as sns\n",
    "\n",
    "sns.set(style = 'darkgrid', color_codes = True)   # my personal style preferences\n",
    "\n",
    "# hack to make seaborn plots bigger on jupyter notebooks\n",
    "def setPlt(x = 25, y = 15):\n",
    "    f, ax = plt.subplots(figsize = (x,y))\n",
    "    sns.despine(f, left = True, bottom = True)"
   ]
  },
  {
   "cell_type": "markdown",
   "metadata": {},
   "source": [
    "If the above does not work please follow these steps:\n",
    "\n",
    "MAC\n",
    "\n",
    "-Open terminal and type <code>conda remove seaborn</code> and press Enter. \n",
    "    \n",
    "-Then type <code>conda install seaborn==0.9.0</code>\n",
    "\n",
    "    \n",
    "Windows\n",
    "\n",
    "-Open Anaconda Prompt (Press Windows button and type \"Anaconda Prompt\")\n",
    "    \n",
    "-Type <code>conda remove seaborn</code>\n",
    "    \n",
    "-Then type <code>conda install seaborn==0.9.0</code>\n",
    "\n",
    "You may need to restart anaconda "
   ]
  },
  {
   "cell_type": "markdown",
   "metadata": {},
   "source": [
    "#### Lets look at at amount of gas vouchers given out."
   ]
  },
  {
   "cell_type": "code",
   "execution_count": 17,
   "metadata": {},
   "outputs": [],
   "source": [
    "#create our first plot, a histogram of salaries\n",
    "\n",
    "setPlt(25,10)\n",
    "\n",
    "# two ways to do this\n",
    "\n",
    "# hist = sns.countplot(data.loc[:,'Gas Voucher'])\n",
    "# hist = sns.countplot(x = 'Education Level', data= data)"
   ]
  },
  {
   "cell_type": "markdown",
   "metadata": {},
   "source": [
    " Visualization is all about asking questions of the data. One thing that we could be curious the distrubution of genders "
   ]
  },
  {
   "cell_type": "code",
   "execution_count": 18,
   "metadata": {},
   "outputs": [],
   "source": [
    "setPlt()\n"
   ]
  },
  {
   "cell_type": "markdown",
   "metadata": {},
   "source": [
    "Does insurance have anything to do with the amount of gas vouchers given out?"
   ]
  },
  {
   "cell_type": "code",
   "execution_count": 19,
   "metadata": {},
   "outputs": [],
   "source": [
    "setPlt(15,9)\n"
   ]
  },
  {
   "cell_type": "markdown",
   "metadata": {},
   "source": [
    "Looking at who has the highest amount of gas vouchers"
   ]
  },
  {
   "cell_type": "code",
   "execution_count": null,
   "metadata": {},
   "outputs": [],
   "source": []
  },
  {
   "cell_type": "markdown",
   "metadata": {},
   "source": [
    "Compare different benefits?"
   ]
  },
  {
   "cell_type": "code",
   "execution_count": 20,
   "metadata": {},
   "outputs": [],
   "source": [
    "#colored scatter plot\n",
    "setPlt(13,9)\n"
   ]
  },
  {
   "cell_type": "markdown",
   "metadata": {},
   "source": [
    "There is so much more that you can learn from this data and we urge you to practice the skills that you have learned by doing more exploration on this data set. "
   ]
  },
  {
   "cell_type": "markdown",
   "metadata": {},
   "source": [
    "# Thank You !"
   ]
  },
  {
   "cell_type": "code",
   "execution_count": null,
   "metadata": {},
   "outputs": [],
   "source": []
  },
  {
   "cell_type": "code",
   "execution_count": null,
   "metadata": {},
   "outputs": [],
   "source": []
  },
  {
   "cell_type": "code",
   "execution_count": null,
   "metadata": {},
   "outputs": [],
   "source": []
  }
 ],
 "metadata": {
  "kernelspec": {
   "display_name": "Python 3",
   "language": "python",
   "name": "python3"
  },
  "language_info": {
   "codemirror_mode": {
    "name": "ipython",
    "version": 3
   },
   "file_extension": ".py",
   "mimetype": "text/x-python",
   "name": "python",
   "nbconvert_exporter": "python",
   "pygments_lexer": "ipython3",
   "version": "3.6.4"
  }
 },
 "nbformat": 4,
 "nbformat_minor": 1
}
